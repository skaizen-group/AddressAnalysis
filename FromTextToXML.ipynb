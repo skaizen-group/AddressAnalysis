{
 "cells": [
  {
   "cell_type": "code",
   "execution_count": 8,
   "metadata": {},
   "outputs": [
    {
     "data": {
      "application/vnd.jupyter.widget-view+json": {
       "model_id": "1fee73db0e784ca1af8d8f83c3e0e7b7",
       "version_major": 2,
       "version_minor": 0
      },
      "text/plain": [
       "FileUpload(value={}, accept='.txt', description='Upload')"
      ]
     },
     "metadata": {},
     "output_type": "display_data"
    }
   ],
   "source": [
    "import getXML\n",
    "from ipywidgets import FileUpload\n",
    "upload = FileUpload(\n",
    "    accept= '.txt', \n",
    "    multiple=False  \n",
    ")\n",
    "upload"
   ]
  },
  {
   "cell_type": "code",
   "execution_count": 2,
   "metadata": {},
   "outputs": [
    {
     "name": "stdout",
     "output_type": "stream",
     "text": [
      "--------------------------------- \n",
      "\n",
      "Identification  |  SKAIZEN Group\n",
      "nomLieu  |  Immeuble Charlebourg Espace Wereso\n",
      "etage  |  9eme étage\n",
      "complementRue  |  bureau 23\n",
      "noRue  |  14\n",
      "nomRue  |  rue de Mantes\n",
      "CodePostal  |  92700\n",
      "Ville  |  COLOMBES\n",
      "--------------------------------- \n",
      "\n",
      "\n",
      "<PostalAddress>\n",
      "\t<BldgNm>Immeuble Charlebourg Espace Wereso</BldgNm>\n",
      "\t<Flr>9eme étage</Flr>\n",
      "\t<BldgNb>14</BldgNb>\n",
      "\t<StrtNm>rue de Mantes</StrtNm>\n",
      "\t<PstCd>92700</PstCd>\n",
      "\t<TwnNm>COLOMBES</TwnNm>\n",
      "</PostalAddress>\n",
      "\n",
      "<Sender>\n",
      "\t<Identification>SKAIZEN Group</Identification>\n",
      "\t<complementRue>bureau 23</complementRue>\n",
      "</Sender>\n"
     ]
    }
   ],
   "source": [
    "print(getXML.getXML(upload.data))"
   ]
  },
  {
   "cell_type": "code",
   "execution_count": 16,
   "metadata": {},
   "outputs": [],
   "source": [
    "from ipyfilechooser import FileChooser"
   ]
  },
  {
   "cell_type": "code",
   "execution_count": 24,
   "metadata": {},
   "outputs": [
    {
     "data": {
      "application/vnd.jupyter.widget-view+json": {
       "model_id": "d6853ded6d8a44988cde18ae2987b19a",
       "version_major": 2,
       "version_minor": 0
      },
      "text/plain": [
       "FileUploadWidget(label='Browse', _dom_classes=('widget_item', 'btn-group'))"
      ]
     },
     "metadata": {},
     "output_type": "display_data"
    }
   ],
   "source": [
    "import io\n",
    "from IPython.display import display\n",
    "import fileupload\n",
    "\n",
    "def _upload():\n",
    "\n",
    "    _upload_widget = fileupload.FileUploadWidget()\n",
    "\n",
    "    def _cb(change):\n",
    "        decoded = io.StringIO(change['owner'].data.decode('utf-8'))\n",
    "        filename = change['owner'].filename\n",
    "        print('Uploaded `{}` ({:.2f} kB)'.format(\n",
    "            filename, len(decoded.read()) / 2 **10))\n",
    "\n",
    "    _upload_widget.observe(_cb, names='data')\n",
    "    display(_upload_widget)\n",
    "\n",
    "_upload()"
   ]
  }
 ],
 "metadata": {
  "kernelspec": {
   "display_name": "Python 3",
   "language": "python",
   "name": "python3"
  },
  "language_info": {
   "codemirror_mode": {
    "name": "ipython",
    "version": 3
   },
   "file_extension": ".py",
   "mimetype": "text/x-python",
   "name": "python",
   "nbconvert_exporter": "python",
   "pygments_lexer": "ipython3",
   "version": "3.6.9"
  }
 },
 "nbformat": 4,
 "nbformat_minor": 4
}
